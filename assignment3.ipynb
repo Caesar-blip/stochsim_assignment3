{
 "cells": [
  {
   "cell_type": "code",
   "execution_count": 1,
   "id": "e9cd33b4",
   "metadata": {},
   "outputs": [],
   "source": [
    "from helpers import *\n",
    "from tqdm import notebook"
   ]
  },
  {
   "cell_type": "code",
   "execution_count": 2,
   "id": "68b5d7f1",
   "metadata": {},
   "outputs": [],
   "source": [
    "def runsims(alpha = 0.95, num_sim=30, temp = 10, stopK = 0.000001, element=\"swap\"):\n",
    "    sim = AnnealTVS(df, K = temp, stopK = stopK, alpha = alpha, elementary=element, num_sim = num_sim)\n",
    "    res = sim.run_sim()\n",
    "    return res\n",
    "\n",
    "def plot_solution(solution, df):\n",
    "    df.plot.scatter(\"x\", \"y\")\n",
    "    for i in range(len(solution)-1):\n",
    "        fro = df.loc[solution[i]]\n",
    "        to = df.loc[solution[i+1]]\n",
    "        plt.arrow(fro[\"x\"], fro[\"y\"], to[\"x\"]-fro[\"x\"], to[\"y\"]-fro[\"y\"])\n",
    "    fro = df.loc[solution[len(solution)-1]]\n",
    "    to = df.loc[solution[0]]\n",
    "    plt.arrow(fro[\"x\"], fro[\"y\"], to[\"x\"]-fro[\"x\"], to[\"y\"]-fro[\"y\"])"
   ]
  },
  {
   "cell_type": "code",
   "execution_count": 4,
   "id": "b8190edd",
   "metadata": {},
   "outputs": [],
   "source": [
    "def get_distance(x1, y1, x2, y2) :\n",
    "    return np.sqrt((x1-x2)**2 + abs(y1-y2)**2)\n",
    "\n",
    "def total_distance(solution, df):\n",
    "    distance = 0\n",
    "    for i in range(len(solution)-1):\n",
    "        fro = df.loc[solution[i]]\n",
    "        to = df.loc[solution[i+1]]\n",
    "        distance += get_distance(fro[\"x\"], fro[\"y\"], to[\"x\"], to[\"y\"])\n",
    "     # make it a circle\n",
    "    fro = df.loc[solution[len(solution)-1]]\n",
    "    to = df.loc[solution[0]]\n",
    "    distance += get_distance(fro[\"x\"], fro[\"y\"], to[\"x\"], to[\"y\"])\n",
    "    return distance"
   ]
  },
  {
   "cell_type": "code",
   "execution_count": 4,
   "id": "30a0c235",
   "metadata": {},
   "outputs": [],
   "source": [
    "df = pd.read_csv(\"data/eil51.tsp.txt\", skiprows=6, names=[\"id\", \"x\", \"y\"], header=None, delimiter = ' ', index_col=0).drop(\"EOF\")"
   ]
  },
  {
   "cell_type": "code",
   "execution_count": 11,
   "id": "947b7c74",
   "metadata": {},
   "outputs": [],
   "source": [
    "sim = AnnealTVS(df, K = 10, num_sim=1,num_searches = 200,stopK = .1, alpha = 0.97, beta = 0.2, gamma = 0.5,\n",
    "                elementary=\"2opt\", verbose=True, alternate=True, secondary=\"insert\")"
   ]
  },
  {
   "cell_type": "code",
   "execution_count": 12,
   "id": "006e960d",
   "metadata": {},
   "outputs": [
    {
     "data": {
      "text/plain": [
       "507.99644160774494"
      ]
     },
     "execution_count": 12,
     "metadata": {},
     "output_type": "execute_result"
    }
   ],
   "source": [
    "sim.total_distance()"
   ]
  },
  {
   "cell_type": "code",
   "execution_count": 13,
   "id": "c8798682",
   "metadata": {
    "scrolled": true
   },
   "outputs": [
    {
     "data": {
      "image/png": "[encoded data removed]",
      "text/plain": [
       "<Figure size 432x288 with 1 Axes>"
      ]
     },
     "metadata": {
      "needs_background": "light"
     },
     "output_type": "display_data"
    }
   ],
   "source": [
    "sim.plot_solution()"
   ]
  },
  {
   "cell_type": "code",
   "execution_count": null,
   "id": "90271ce2",
   "metadata": {},
   "outputs": [
    {
     "name": "stdout",
     "output_type": "stream",
     "text": [
      "temperature: 10\n",
      "times lowered: 13\n",
      "times raised:22\n",
      "temperature: 9.7\n",
      "times lowered: 31\n",
      "times raised:30\n",
      "temperature: 9.408999999999999\n",
      "times lowered: 31\n",
      "times raised:31\n",
      "temperature: 9.126729999999998\n",
      "times lowered: 33\n",
      "times raised:25\n",
      "temperature: 8.852928099999998\n",
      "times lowered: 28\n",
      "times raised:28\n",
      "temperature: 8.587340256999997\n",
      "times lowered: 38\n",
      "times raised:30\n",
      "temperature: 8.329720049289998\n",
      "times lowered: 22\n",
      "times raised:30\n",
      "temperature: 8.079828447811298\n",
      "times lowered: 26\n",
      "times raised:34\n",
      "temperature: 7.837433594376959\n",
      "times lowered: 35\n",
      "times raised:22\n",
      "temperature: 7.60231058654565\n",
      "times lowered: 26\n",
      "times raised:22\n",
      "temperature: 7.374241268949281\n",
      "times lowered: 18\n",
      "times raised:21\n",
      "temperature: 7.153014030880803\n",
      "times lowered: 17\n",
      "times raised:17\n",
      "temperature: 6.938423609954378\n",
      "times lowered: 23\n",
      "times raised:22\n",
      "temperature: 6.7302709016557465\n",
      "times lowered: 18\n",
      "times raised:22\n",
      "temperature: 6.528362774606074\n",
      "times lowered: 16\n",
      "times raised:12\n",
      "temperature: 6.332511891367892\n",
      "times lowered: 23\n",
      "times raised:27\n",
      "temperature: 6.142536534626855\n",
      "times lowered: 21\n",
      "times raised:25\n",
      "temperature: 5.958260438588049\n",
      "times lowered: 24\n",
      "times raised:26\n",
      "temperature: 5.7795126254304074\n",
      "times lowered: 18\n",
      "times raised:16\n",
      "temperature: 5.606127246667495\n",
      "times lowered: 16\n",
      "times raised:12\n",
      "temperature: 5.43794342926747\n",
      "times lowered: 13\n",
      "times raised:14\n",
      "temperature: 5.274805126389446\n",
      "times lowered: 12\n",
      "times raised:12\n",
      "temperature: 5.116560972597763\n",
      "times lowered: 16\n",
      "times raised:15\n",
      "temperature: 4.96306414341983\n",
      "times lowered: 13\n",
      "times raised:9\n",
      "temperature: 4.814172219117235\n",
      "times lowered: 11\n",
      "times raised:10\n",
      "temperature: 4.669747052543718\n",
      "times lowered: 10\n",
      "times raised:13\n",
      "temperature: 4.529654640967406\n",
      "times lowered: 15\n",
      "times raised:11\n",
      "temperature: 4.393765001738384\n",
      "times lowered: 14\n",
      "times raised:16\n",
      "temperature: 4.261952051686232\n",
      "times lowered: 6\n",
      "times raised:6\n",
      "temperature: 4.134093490135645\n",
      "times lowered: 12\n",
      "times raised:10\n",
      "temperature: 4.010070685431575\n",
      "times lowered: 9\n",
      "times raised:16\n",
      "temperature: 3.889768564868628\n",
      "times lowered: 21\n",
      "times raised:8\n",
      "temperature: 3.773075507922569\n",
      "times lowered: 8\n",
      "times raised:6\n",
      "temperature: 3.6598832426848915\n",
      "times lowered: 11\n",
      "times raised:12\n",
      "temperature: 3.5500867454043448\n",
      "times lowered: 8\n",
      "times raised:4\n",
      "temperature: 3.4435841430422145\n",
      "times lowered: 9\n",
      "times raised:9\n",
      "temperature: 3.340276618750948\n",
      "times lowered: 9\n",
      "times raised:11\n",
      "temperature: 3.2400683201884197\n",
      "times lowered: 9\n",
      "times raised:10\n",
      "temperature: 3.142866270582767\n",
      "times lowered: 6\n",
      "times raised:5\n",
      "temperature: 3.048580282465284\n",
      "times lowered: 7\n",
      "times raised:5\n",
      "temperature: 2.957122873991325\n",
      "times lowered: 4\n",
      "times raised:5\n",
      "temperature: 2.868409187771585\n",
      "times lowered: 6\n",
      "times raised:9\n",
      "temperature: 2.7823569121384377\n",
      "times lowered: 8\n",
      "times raised:8\n",
      "temperature: 2.6988862047742845\n",
      "times lowered: 10\n",
      "times raised:6\n",
      "temperature: 2.617919618631056\n",
      "times lowered: 4\n",
      "times raised:2\n",
      "temperature: 2.539382030072124\n",
      "times lowered: 2\n",
      "times raised:2\n",
      "temperature: 2.4632005691699606\n",
      "times lowered: 1\n",
      "times raised:5\n",
      "temperature: 2.3893045520948615\n",
      "times lowered: 6\n",
      "times raised:3\n",
      "temperature: 2.3176254155320155\n",
      "times lowered: 1\n",
      "times raised:2\n",
      "temperature: 2.248096653066055\n",
      "times lowered: 6\n",
      "times raised:4\n",
      "temperature: 2.1806537534740733\n",
      "times lowered: 0\n",
      "times raised:2\n",
      "temperature: 2.115234140869851\n",
      "times lowered: 4\n",
      "times raised:4\n",
      "temperature: 2.0517771166437555\n",
      "times lowered: 3\n",
      "times raised:3\n",
      "temperature: 1.9902238031444428\n",
      "times lowered: 5\n",
      "times raised:5\n",
      "temperature: 1.9305170890501095\n",
      "times lowered: 3\n",
      "times raised:5\n",
      "temperature: 1.8726015763786061\n",
      "times lowered: 8\n",
      "times raised:5\n",
      "temperature: 1.816423529087248\n",
      "times lowered: 8\n",
      "times raised:6\n",
      "temperature: 1.7619308232146305\n",
      "times lowered: 1\n",
      "times raised:6\n",
      "temperature: 1.7090728985181916\n",
      "times lowered: 5\n",
      "times raised:6\n",
      "temperature: 1.6578007115626459\n",
      "times lowered: 5\n",
      "times raised:6\n",
      "temperature: 1.6080666902157665\n",
      "times lowered: 2\n",
      "times raised:5\n",
      "temperature: 1.5598246895092935\n",
      "times lowered: 1\n",
      "times raised:6\n",
      "temperature: 1.5130299488240146\n",
      "times lowered: 5\n",
      "times raised:8\n",
      "temperature: 1.4676390503592942\n",
      "times lowered: 1\n",
      "times raised:2\n",
      "temperature: 1.4236098788485154\n",
      "times lowered: 2\n",
      "times raised:3\n",
      "temperature: 1.38090158248306\n",
      "times lowered: 2\n",
      "times raised:5\n",
      "temperature: 1.3394745350085682\n",
      "times lowered: 1\n",
      "times raised:4\n",
      "temperature: 1.299290298958311\n",
      "times lowered: 3\n",
      "times raised:5\n",
      "temperature: 1.2603115899895616\n",
      "times lowered: 0\n",
      "times raised:2\n",
      "temperature: 1.2225022422898748\n",
      "times lowered: 1\n",
      "times raised:4\n",
      "temperature: 1.1858271750211786\n",
      "times lowered: 4\n",
      "times raised:3\n",
      "temperature: 1.1502523597705432\n",
      "times lowered: 5\n",
      "times raised:3\n",
      "temperature: 1.1157447889774268\n",
      "times lowered: 1\n",
      "times raised:5\n",
      "temperature: 1.082272445308104\n",
      "times lowered: 1\n",
      "times raised:8\n",
      "temperature: 1.049804271948861\n",
      "times lowered: 5\n",
      "times raised:4\n",
      "temperature: 1.0183101437903952\n",
      "times lowered: 0\n",
      "times raised:2\n",
      "temperature: 0.9877608394766834\n",
      "times lowered: 2\n",
      "times raised:5\n",
      "temperature: 0.9581280142923828\n",
      "times lowered: 1\n",
      "times raised:6\n"
     ]
    }
   ],
   "source": [
    "res = sim.run_sim()"
   ]
  },
  {
   "cell_type": "code",
   "execution_count": 13,
   "id": "992b6a21",
   "metadata": {},
   "outputs": [
    {
     "data": {
      "image/png": "[encoded data removed]",
      "text/plain": [
       "<Figure size 432x288 with 1 Axes>"
      ]
     },
     "metadata": {
      "needs_background": "light"
     },
     "output_type": "display_data"
    }
   ],
   "source": [
    "sim.plot_solution()"
   ]
  },
  {
   "cell_type": "code",
   "execution_count": 14,
   "id": "28b26b53",
   "metadata": {},
   "outputs": [
    {
     "data": {
      "text/plain": [
       "469.0880923588194"
      ]
     },
     "execution_count": 14,
     "metadata": {},
     "output_type": "execute_result"
    }
   ],
   "source": [
    "sim.total_distance()"
   ]
  },
  {
   "cell_type": "code",
   "execution_count": null,
   "id": "c653e2dd",
   "metadata": {},
   "outputs": [],
   "source": [
    "num_sims = 8\n",
    "results_sims= Parallel(n_jobs=8)(delayed(runsims)(num_sim = 10, temp=i, stopK=.1, element=\"2opt\")\n",
    "                                      for i in range(num_sims))"
   ]
  },
  {
   "cell_type": "code",
   "execution_count": null,
   "id": "bd7ed3ce",
   "metadata": {},
   "outputs": [],
   "source": [
    "total_distance(results_sims[0][0], df)"
   ]
  },
  {
   "cell_type": "code",
   "execution_count": null,
   "id": "a897f041",
   "metadata": {},
   "outputs": [],
   "source": [
    "for i in range(len(results_sims)):\n",
    "    for j in range(len(results_sims[i])):\n",
    "        print(total_distance(results_sims[i][j], df))"
   ]
  },
  {
   "cell_type": "code",
   "execution_count": null,
   "id": "a211379a",
   "metadata": {},
   "outputs": [],
   "source": [
    "num_sims = 8\n",
    "results_sims= Parallel(n_jobs=8)(delayed(runsims)(num_sim = 10, temp=i*10, stopK=.1, alpha = 0.9, element=\"insert\")\n",
    "                                      for i in range(num_sims))"
   ]
  },
  {
   "cell_type": "code",
   "execution_count": null,
   "id": "f78f4d38",
   "metadata": {
    "scrolled": true
   },
   "outputs": [],
   "source": [
    "for i in range(len(results_sims)):\n",
    "    for j in range(len(results_sims[i])):\n",
    "        print(total_distance(results_sims[i][j], df))"
   ]
  },
  {
   "cell_type": "code",
   "execution_count": null,
   "id": "f7f4c7d9",
   "metadata": {},
   "outputs": [],
   "source": [
    "num_sims = 8\n",
    "results_sims= Parallel(n_jobs=8)(delayed(runsims)(num_sim = 10, temp=i*10, stopK=.1, alpha = 0.9, element=\"swap\")\n",
    "                                      for i in range(num_sims))"
   ]
  },
  {
   "cell_type": "code",
   "execution_count": null,
   "id": "6f27a03e",
   "metadata": {},
   "outputs": [],
   "source": [
    "for i in range(len(results_sims)):\n",
    "    for j in range(len(results_sims[i])):\n",
    "        print(total_distance(results_sims[i][j], df))"
   ]
  }
 ],
 "metadata": {
  "kernelspec": {
   "display_name": "Python 3",
   "language": "python",
   "name": "python3"
  },
  "language_info": {
   "codemirror_mode": {
    "name": "ipython",
    "version": 3
   },
   "file_extension": ".py",
   "mimetype": "text/x-python",
   "name": "python",
   "nbconvert_exporter": "python",
   "pygments_lexer": "ipython3",
   "version": "3.9.2"
  }
 },
 "nbformat": 4,
 "nbformat_minor": 5
}
