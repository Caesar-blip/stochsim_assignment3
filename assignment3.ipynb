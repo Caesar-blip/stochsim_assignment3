{
 "cells": [
  {
   "cell_type": "code",
   "execution_count": 30,
   "id": "e9cd33b4",
   "metadata": {},
   "outputs": [],
   "source": [
    "import numpy as np\n",
    "import matplotlib.pyplot as plt\n",
    "import scipy.stats as st\n",
    "import pandas as pd\n",
    "import random\n",
    "import math"
   ]
  },
  {
   "cell_type": "code",
   "execution_count": 31,
   "id": "7d9ebbe1",
   "metadata": {},
   "outputs": [],
   "source": [
    "def get_distance(x1, y1, x2, y2) :\n",
    "    return np.sqrt((x1-x2)**2 + abs(y1-y2)**2)\n",
    "\n",
    "def total_distance(solution, df):\n",
    "    distance = 0\n",
    "    for i in range(len(solution)-1):\n",
    "        fro = df.loc[solution[i]]\n",
    "        to = df.loc[solution[i+1]]\n",
    "        distance += get_distance(fro[\"x\"], fro[\"y\"], to[\"x\"], to[\"y\"])\n",
    "    # make it a circle\n",
    "    fro = df.loc[solution[len(solution)-1]]\n",
    "    to = df.loc[solution[0]]\n",
    "    distance += get_distance(fro[\"x\"], fro[\"y\"], to[\"x\"], to[\"y\"])\n",
    "    return distance\n",
    "\n",
    "def plot_solution(solution, df):\n",
    "    for i in range(len(solution)-1):\n",
    "        fro = df.loc[solution[i]]\n",
    "        to = df.loc[solution[i+1]]\n",
    "        plt.arrow(fro[\"x\"], fro[\"y\"], to[\"x\"]-fro[\"x\"], to[\"y\"]-fro[\"y\"])\n",
    "    fro = df.loc[solution[len(solution)-1]]\n",
    "    to = df.loc[solution[0]]\n",
    "    plt.arrow(fro[\"x\"], fro[\"y\"], to[\"x\"]-fro[\"x\"], to[\"y\"]-fro[\"y\"])"
   ]
  },
  {
   "cell_type": "code",
   "execution_count": 237,
   "id": "1c5d752f",
   "metadata": {},
   "outputs": [],
   "source": [
    "def triangle_swap(solution):\n",
    "    i1, i2, i3 = random.sample(range(0, len(solution)-1), 3)\n",
    "    new_solution = solution\n",
    "    new_solution[i1], new_solution[i2], new_solution[i3] = new_solution[i2], new_solution[i3], new_solution[i1]\n",
    "    return new_solution\n",
    "\n",
    "def swap(solution):\n",
    "    i1, i2 = random.sample(range(0, len(solution)-1), 2)\n",
    "    new_solution = solution\n",
    "    new_solution[i1], new_solution[i2] = new_solution[i2], new_solution[i1]\n",
    "    return new_solution\n",
    "\n",
    "def shuffle(solution):\n",
    "    i1, i2 = random.sample(range(0, len(solution)-1), 2)\n",
    "    sub = solution[i1:i2]\n",
    "    random.shuffle(sub)\n",
    "    solution[i1:i2] = sub\n",
    "    return solution    "
   ]
  },
  {
   "cell_type": "code",
   "execution_count": 253,
   "id": "0843bb9b",
   "metadata": {},
   "outputs": [],
   "source": [
    "def sim_anneal(solution, df, K, stopK, alpha, ittol, elementary):\n",
    "    assert alpha < 1, \"choose a smaller alpha\"\n",
    "    all_dist = []\n",
    "    sol = solution\n",
    "    old_dist = total_distance(sol, df)\n",
    "    i = 0\n",
    "    while K > stopK and i < ittol:\n",
    "        # elementary edit, triangle swap for now\n",
    "        if elementary ==\"triangle\":\n",
    "            new_solution = triangle_swap(sol)\n",
    "        elif elementary == \"swap\":\n",
    "            new_solution = swap(sol)\n",
    "        elif elementary == \"shuffle\":\n",
    "            new_solution = shuffle(sol)\n",
    "        else:\n",
    "            raise ValueError\n",
    "            \n",
    "        new_dist = total_distance(new_solution, df)\n",
    "        # decide whether to accept the new solution\n",
    "        if new_dist < old_dist:\n",
    "            print(\"found something better\")\n",
    "            sol = new_solution\n",
    "            old_dist = total_distance(sol, df)\n",
    "            all_dist.append(total_distance(sol, df))\n",
    "        else:\n",
    "            # accept with probability depending on temperature\n",
    "            rand = np.random.random()\n",
    "            prob = math.exp(total_distance(new_solution, df)- total_distance(solution, df)/K)\n",
    "            if rand < prob:\n",
    "                assert rand < prob\n",
    "                solution = new_solution\n",
    "        # decrease temperature\n",
    "        i += 1\n",
    "        K *= alpha \n",
    "        \n",
    "    return sol, all_dist"
   ]
  },
  {
   "cell_type": "code",
   "execution_count": 53,
   "id": "30a0c235",
   "metadata": {},
   "outputs": [],
   "source": [
    "df = pd.read_csv(\"data/eil51.tsp.txt\", skiprows=6, names=[\"id\", \"x\", \"y\"], header=None, delimiter = ' ', index_col=0).drop(\"EOF\")"
   ]
  },
  {
   "cell_type": "code",
   "execution_count": 54,
   "id": "6e1d9c65",
   "metadata": {},
   "outputs": [
    {
     "data": {
      "text/plain": [
       "<AxesSubplot:xlabel='x', ylabel='y'>"
      ]
     },
     "execution_count": 54,
     "metadata": {},
     "output_type": "execute_result"
    },
    {
     "data": {
      "image/png": "[encoded data removed]",
      "text/plain": [
       "<Figure size 432x288 with 1 Axes>"
      ]
     },
     "metadata": {
      "needs_background": "light"
     },
     "output_type": "display_data"
    }
   ],
   "source": [
    "df.plot.scatter(\"x\", \"y\")"
   ]
  },
  {
   "cell_type": "code",
   "execution_count": 55,
   "id": "f5f3f38b",
   "metadata": {
    "scrolled": true
   },
   "outputs": [],
   "source": [
    "df = df[0:10]\n",
    "# tidy data\n",
    "df = df.sort_values(\"x\")"
   ]
  },
  {
   "cell_type": "code",
   "execution_count": 56,
   "id": "6d499401",
   "metadata": {},
   "outputs": [],
   "source": [
    "# find naive solution along 1 dimension\n",
    "solution = []\n",
    "for row in range(df.shape[0]):\n",
    "    solution.append(df.iloc[row].name)"
   ]
  },
  {
   "cell_type": "code",
   "execution_count": 57,
   "id": "7d59bfd3",
   "metadata": {},
   "outputs": [
    {
     "data": {
      "text/plain": [
       "279.24296426489747"
      ]
     },
     "execution_count": 57,
     "metadata": {},
     "output_type": "execute_result"
    }
   ],
   "source": [
    "total_distance(solution, df)"
   ]
  },
  {
   "cell_type": "code",
   "execution_count": 58,
   "id": "13b8be11",
   "metadata": {
    "scrolled": true
   },
   "outputs": [
    {
     "data": {
      "image/png": "[encoded data removed]",
      "text/plain": [
       "<Figure size 432x288 with 1 Axes>"
      ]
     },
     "metadata": {
      "needs_background": "light"
     },
     "output_type": "display_data"
    }
   ],
   "source": [
    "plot_solution(solution, df)"
   ]
  },
  {
   "cell_type": "code",
   "execution_count": 59,
   "id": "941aed00",
   "metadata": {},
   "outputs": [
    {
     "data": {
      "text/plain": [
       "['7', '4', '6', '8', '1', '5', '2', '10', '3', '9']"
      ]
     },
     "execution_count": 59,
     "metadata": {},
     "output_type": "execute_result"
    }
   ],
   "source": [
    "solution"
   ]
  },
  {
   "cell_type": "code",
   "execution_count": 60,
   "id": "4b60164f",
   "metadata": {},
   "outputs": [],
   "source": [
    "# brute force, very bad\n",
    "i = 0\n",
    "while True:\n",
    "    random.shuffle(solution)\n",
    "    if total_distance(solution, df) < 1200 or i > 1000:\n",
    "        break\n",
    "    i += 1"
   ]
  },
  {
   "cell_type": "code",
   "execution_count": 61,
   "id": "bb9ebdf3",
   "metadata": {
    "scrolled": false
   },
   "outputs": [
    {
     "data": {
      "image/png": "[encoded data removed]",
      "text/plain": [
       "<Figure size 432x288 with 1 Axes>"
      ]
     },
     "metadata": {
      "needs_background": "light"
     },
     "output_type": "display_data"
    }
   ],
   "source": [
    "plot_solution(solution, df)"
   ]
  },
  {
   "cell_type": "code",
   "execution_count": 62,
   "id": "40c5b5e8",
   "metadata": {},
   "outputs": [
    {
     "data": {
      "text/plain": [
       "['9', '4', '3', '2', '7', '8', '6', '1', '5', '10']"
      ]
     },
     "execution_count": 62,
     "metadata": {},
     "output_type": "execute_result"
    }
   ],
   "source": [
    "solution"
   ]
  },
  {
   "cell_type": "code",
   "execution_count": 63,
   "id": "c3e9c4b6",
   "metadata": {},
   "outputs": [
    {
     "data": {
      "text/plain": [
       "229.94555316843667"
      ]
     },
     "execution_count": 63,
     "metadata": {},
     "output_type": "execute_result"
    }
   ],
   "source": [
    "total_distance(solution, df)"
   ]
  },
  {
   "cell_type": "code",
   "execution_count": 257,
   "id": "f8f670ce",
   "metadata": {
    "scrolled": false
   },
   "outputs": [
    {
     "name": "stdout",
     "output_type": "stream",
     "text": [
      "found something better\n",
      "found something better\n",
      "found something better\n",
      "found something better\n",
      "found something better\n",
      "found something better\n",
      "found something better\n",
      "found something better\n",
      "found something better\n",
      "found something better\n",
      "found something better\n",
      "found something better\n",
      "found something better\n"
     ]
    }
   ],
   "source": [
    "sol, all_dist = sim_anneal(solution, df, 1, 0.000001, 0.99, 100000, \"shuffle\")"
   ]
  },
  {
   "cell_type": "code",
   "execution_count": 258,
   "id": "2d455589",
   "metadata": {},
   "outputs": [
    {
     "data": {
      "text/plain": [
       "[<matplotlib.lines.Line2D at 0x1a139b34580>]"
      ]
     },
     "execution_count": 258,
     "metadata": {},
     "output_type": "execute_result"
    },
    {
     "data": {
      "image/png": "[encoded data removed]",
      "text/plain": [
       "<Figure size 432x288 with 1 Axes>"
      ]
     },
     "metadata": {
      "needs_background": "light"
     },
     "output_type": "display_data"
    }
   ],
   "source": [
    "plt.plot(all_dist)"
   ]
  },
  {
   "cell_type": "code",
   "execution_count": 259,
   "id": "de7a0cd7",
   "metadata": {},
   "outputs": [
    {
     "data": {
      "image/png": "[encoded data removed]",
      "text/plain": [
       "<Figure size 432x288 with 1 Axes>"
      ]
     },
     "metadata": {
      "needs_background": "light"
     },
     "output_type": "display_data"
    }
   ],
   "source": [
    "plot_solution(sol, df)"
   ]
  },
  {
   "cell_type": "code",
   "execution_count": 215,
   "id": "43b8bf2d",
   "metadata": {},
   "outputs": [
    {
     "ename": "IndentationError",
     "evalue": "expected an indented block (<ipython-input-215-a1bad9fa2734>, line 2)",
     "output_type": "error",
     "traceback": [
      "\u001b[1;36m  File \u001b[1;32m\"<ipython-input-215-a1bad9fa2734>\"\u001b[1;36m, line \u001b[1;32m2\u001b[0m\n\u001b[1;33m    \u001b[0m\n\u001b[1;37m    ^\u001b[0m\n\u001b[1;31mIndentationError\u001b[0m\u001b[1;31m:\u001b[0m expected an indented block\n"
     ]
    }
   ],
   "source": [
    "def two_opt(solution, df):\n",
    "    "
   ]
  },
  {
   "cell_type": "code",
   "execution_count": 223,
   "id": "4f84d906",
   "metadata": {},
   "outputs": [
    {
     "data": {
      "text/plain": [
       "['1', '4', '3', '6', '5', '10', '9', '2', '8', '7']"
      ]
     },
     "execution_count": 223,
     "metadata": {},
     "output_type": "execute_result"
    }
   ],
   "source": [
    "sol"
   ]
  }
 ],
 "metadata": {
  "kernelspec": {
   "display_name": "Python 3",
   "language": "python",
   "name": "python3"
  },
  "language_info": {
   "codemirror_mode": {
    "name": "ipython",
    "version": 3
   },
   "file_extension": ".py",
   "mimetype": "text/x-python",
   "name": "python",
   "nbconvert_exporter": "python",
   "pygments_lexer": "ipython3",
   "version": "3.9.2"
  }
 },
 "nbformat": 4,
 "nbformat_minor": 5
}
