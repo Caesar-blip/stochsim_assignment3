{
 "cells": [
  {
   "cell_type": "code",
   "execution_count": 1,
   "id": "e9cd33b4",
   "metadata": {},
   "outputs": [],
   "source": [
    "from helpers import *\n",
    "from tqdm import notebook"
   ]
  },
  {
   "cell_type": "code",
   "execution_count": 2,
   "id": "68b5d7f1",
   "metadata": {},
   "outputs": [],
   "source": [
    "def runsims(alpha = 0.95, num_sim=30, temp = 10, stopK = 0.000001, element=\"swap\", num_searches=100,\n",
    "            alternate=False, secondary=\"2opt\"):\n",
    "    sim = AnnealTVS(df, K = temp, stopK = stopK, alpha = alpha, elementary=element, num_searches = num_searches,\n",
    "                    num_sim = num_sim, alternate=alternate, secondary=secondary)\n",
    "    res = sim.run_sim()\n",
    "    return res\n",
    "\n",
    "def plot_solution(solution, df):\n",
    "    df.plot.scatter(\"x\", \"y\")\n",
    "    for i in range(len(solution)-1):\n",
    "        fro = df.loc[solution[i]]\n",
    "        to = df.loc[solution[i+1]]\n",
    "        plt.arrow(fro[\"x\"], fro[\"y\"], to[\"x\"]-fro[\"x\"], to[\"y\"]-fro[\"y\"])\n",
    "    fro = df.loc[solution[len(solution)-1]]\n",
    "    to = df.loc[solution[0]]\n",
    "    plt.arrow(fro[\"x\"], fro[\"y\"], to[\"x\"]-fro[\"x\"], to[\"y\"]-fro[\"y\"])"
   ]
  },
  {
   "cell_type": "code",
   "execution_count": 3,
   "id": "b8190edd",
   "metadata": {},
   "outputs": [],
   "source": [
    "def get_distance(x1, y1, x2, y2) :\n",
    "    return np.sqrt((x1-x2)**2 + abs(y1-y2)**2)\n",
    "\n",
    "def total_distance(solution, df):\n",
    "    distance = 0\n",
    "    for i in range(len(solution)-1):\n",
    "        fro = df.loc[solution[i]]\n",
    "        to = df.loc[solution[i+1]]\n",
    "        distance += get_distance(fro[\"x\"], fro[\"y\"], to[\"x\"], to[\"y\"])\n",
    "     # make it a circle\n",
    "    fro = df.loc[solution[len(solution)-1]]\n",
    "    to = df.loc[solution[0]]\n",
    "    distance += get_distance(fro[\"x\"], fro[\"y\"], to[\"x\"], to[\"y\"])\n",
    "    return distance"
   ]
  },
  {
   "cell_type": "code",
   "execution_count": 4,
   "id": "30a0c235",
   "metadata": {},
   "outputs": [
    {
     "name": "stderr",
     "output_type": "stream",
     "text": [
      "<ipython-input-4-f409b169b928>:1: ParserWarning: Falling back to the 'python' engine because the 'c' engine does not support regex separators (separators > 1 char and different from '\\s+' are interpreted as regex); you can avoid this warning by specifying engine='python'.\n",
      "  df = pd.read_csv(\"data/a280.tsp.txt\", skiprows=6, names=[\"id\", \"x\", \"y\"], header=None, delimiter = r\"[ ]{1,}\", index_col=0).drop(\"EOF\")\n"
     ]
    }
   ],
   "source": [
    "df = pd.read_csv(\"data/a280.tsp.txt\", skiprows=6, names=[\"id\", \"x\", \"y\"], header=None, delimiter = r\"[ ]{1,}\", index_col=0).drop(\"EOF\")\n",
    "# df = pd.read_csv(\"data/a280.tsp.txt\", skiprows=6, names=[\"id\", \"x\", \"y\"], header=None, delimiter = ' ', index_col=0).drop(\"EOF\")"
   ]
  },
  {
   "cell_type": "code",
   "execution_count": null,
   "id": "947b7c74",
   "metadata": {},
   "outputs": [],
   "source": [
    "sim = AnnealTVS(df, K = 10, num_sim=1,num_searches = 200,stopK = .1, alpha = 0.97, beta = 0.2, gamma = 0.5,\n",
    "                elementary=\"2opt\", verbose=True, alternate=True, secondary=\"insert\")"
   ]
  },
  {
   "cell_type": "code",
   "execution_count": null,
   "id": "c8798682",
   "metadata": {
    "scrolled": true
   },
   "outputs": [],
   "source": [
    "sim.plot_solution()"
   ]
  },
  {
   "cell_type": "code",
   "execution_count": null,
   "id": "90271ce2",
   "metadata": {},
   "outputs": [],
   "source": [
    "res = sim.run_sim()"
   ]
  },
  {
   "cell_type": "code",
   "execution_count": null,
   "id": "28b26b53",
   "metadata": {},
   "outputs": [],
   "source": [
    "sim.total_distance()"
   ]
  },
  {
   "cell_type": "code",
   "execution_count": 5,
   "id": "ff68c065",
   "metadata": {},
   "outputs": [],
   "source": [
    "num_sims = 16\n",
    "results_sims= Parallel(n_jobs=8)(delayed(runsims)(num_sim = 2, num_searches = 600, temp=3,\n",
    "                                                  stopK=.0001, alpha = 0.99 - 0.01*i, element=\"insert\", \n",
    "                                                  alternate=True, secondary=\"2opt\")\n",
    "                                      for i in range(num_sims))"
   ]
  },
  {
   "cell_type": "code",
   "execution_count": 6,
   "id": "bcc3ccc6",
   "metadata": {},
   "outputs": [
    {
     "name": "stdout",
     "output_type": "stream",
     "text": [
      "i:0, j:0\n",
      "i:0, j:1\n",
      "2666.172063317445\n"
     ]
    }
   ],
   "source": [
    "best_solution = []\n",
    "best = 1000000\n",
    "for i in range(len(results_sims)):\n",
    "    for j in range(len(results_sims[i])):\n",
    "        distance = total_distance(results_sims[i][j], df)\n",
    "        if distance < best:\n",
    "            print(f\"i:{i}, j:{j}\")\n",
    "            # update shortest distance\n",
    "            best = distance\n",
    "            # store best solution\n",
    "            best_solution = results_sims[i][j]\n",
    "            \n",
    "        # print(total_distance(results_sims[i][j], df))\n",
    "\n",
    "print(total_distance(best_solution, df))"
   ]
  },
  {
   "cell_type": "code",
   "execution_count": 7,
   "id": "a6f46672",
   "metadata": {},
   "outputs": [
    {
     "data": {
      "image/png": "[encoded data removed]",
      "text/plain": [
       "<Figure size 432x288 with 1 Axes>"
      ]
     },
     "metadata": {
      "needs_background": "light"
     },
     "output_type": "display_data"
    }
   ],
   "source": [
    "plot_solution(best_solution, df)"
   ]
  },
  {
   "cell_type": "code",
   "execution_count": null,
   "id": "4cc8fed1",
   "metadata": {},
   "outputs": [],
   "source": [
    "best_solution"
   ]
  },
  {
   "cell_type": "code",
   "execution_count": null,
   "id": "95909041",
   "metadata": {},
   "outputs": [],
   "source": [
    "df = pd.read_csv(\"data/eil51.opt.tour.txt\", skiprows=5, names=[\"cities\"], header=None, delimiter = ' ', index_col=0).drop(\"EOF\")\n",
    "# df = pd.read_csv(\"data/a280.opt.tour.txt\", skiprows=5, names=[\"cities\"], header=None, delimiter = ' ', index_col=0).drop(\"EOF\")\n",
    "opt_tour = []\n",
    "for index, row in df.iterrows():\n",
    "    opt_tour.append(index)\n",
    "opt_tour.pop()\n",
    "print(opt_tour)\n",
    "\n",
    "\n",
    "df = pd.read_csv(\"data/eil51.tsp.txt\", skiprows=6, names=[\"id\", \"x\", \"y\"], header=None, delimiter = ' ', index_col=0).drop(\"EOF\")\n",
    "# df = pd.read_csv(\"data/a280.tsp.txt\", skiprows=6, names=[\"id\", \"x\", \"y\"], header=None, delimiter = ' ', index_col=0).drop(\"EOF\")\n",
    "print(total_distance(opt_tour, df))\n"
   ]
  },
  {
   "cell_type": "code",
   "execution_count": null,
   "id": "c653e2dd",
   "metadata": {},
   "outputs": [],
   "source": [
    "# num_sims = 8\n",
    "# results_sims= Parallel(n_jobs=8)(delayed(runsims)(num_sim = 10, temp=i, stopK=.1, element=\"2opt\")\n",
    "#                                       for i in range(num_sims))"
   ]
  },
  {
   "cell_type": "code",
   "execution_count": null,
   "id": "bd7ed3ce",
   "metadata": {},
   "outputs": [],
   "source": [
    "# total_distance(results_sims[0][0], df)"
   ]
  },
  {
   "cell_type": "code",
   "execution_count": null,
   "id": "a897f041",
   "metadata": {},
   "outputs": [],
   "source": [
    "# for i in range(len(results_sims)):\n",
    "#     for j in range(len(results_sims[i])):\n",
    "#         print(total_distance(results_sims[i][j], df))"
   ]
  },
  {
   "cell_type": "code",
   "execution_count": null,
   "id": "a211379a",
   "metadata": {},
   "outputs": [],
   "source": [
    "# num_sims = 8\n",
    "# results_sims= Parallel(n_jobs=8)(delayed(runsims)(num_sim = 10, temp=i*10, stopK=.1, alpha = 0.9, element=\"insert\")\n",
    "#                                       for i in range(num_sims))"
   ]
  },
  {
   "cell_type": "code",
   "execution_count": null,
   "id": "f78f4d38",
   "metadata": {
    "scrolled": true
   },
   "outputs": [],
   "source": [
    "# for i in range(len(results_sims)):\n",
    "#     for j in range(len(results_sims[i])):\n",
    "#         print(total_distance(results_sims[i][j], df))"
   ]
  },
  {
   "cell_type": "code",
   "execution_count": null,
   "id": "f7f4c7d9",
   "metadata": {},
   "outputs": [],
   "source": [
    "# num_sims = 8\n",
    "# results_sims= Parallel(n_jobs=8)(delayed(runsims)(num_sim = 1, temp=i*10, stopK=.01, alpha = 0.99, element=\"insert\")\n",
    "#                                       for i in range(num_sims))"
   ]
  },
  {
   "cell_type": "code",
   "execution_count": null,
   "id": "6f27a03e",
   "metadata": {},
   "outputs": [],
   "source": [
    "# best_solution:\n",
    "# for i in range(len(results_sims)):\n",
    "#     for j in range(len(results_sims[i])):\n",
    "#         print(total_distance(results_sims[i][j], df))"
   ]
  }
 ],
 "metadata": {
  "kernelspec": {
   "display_name": "Python 3",
   "language": "python",
   "name": "python3"
  },
  "language_info": {
   "codemirror_mode": {
    "name": "ipython",
    "version": 3
   },
   "file_extension": ".py",
   "mimetype": "text/x-python",
   "name": "python",
   "nbconvert_exporter": "python",
   "pygments_lexer": "ipython3",
   "version": "3.9.2"
  }
 },
 "nbformat": 4,
 "nbformat_minor": 5
}
