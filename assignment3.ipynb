{
 "cells": [
  {
   "cell_type": "code",
   "execution_count": 26,
   "id": "e9cd33b4",
   "metadata": {},
   "outputs": [],
   "source": [
    "from helpers import *\n",
    "from tqdm import notebook"
   ]
  },
  {
   "cell_type": "code",
   "execution_count": 27,
   "id": "68b5d7f1",
   "metadata": {},
   "outputs": [],
   "source": [
    "def runsims(alpha = 0.95, num_sim=1, temp = 10, stopK = 0.000001, element=\"swap\"):\n",
    "    sim = AnnealTVS(df, K = temp, stopK = stopK, alpha = alpha, elementary=element, num_sim = num_sim)\n",
    "    res = sim.run_sim()\n",
    "    return res\n",
    "\n",
    "def plot_solution(solution, df):\n",
    "    df.plot.scatter(\"x\", \"y\")\n",
    "    for i in range(len(solution)-1):\n",
    "        fro = df.loc[solution[i]]\n",
    "        to = df.loc[solution[i+1]]\n",
    "        plt.arrow(fro[\"x\"], fro[\"y\"], to[\"x\"]-fro[\"x\"], to[\"y\"]-fro[\"y\"])\n",
    "    fro = df.loc[solution[len(solution)-1]]\n",
    "    to = df.loc[solution[0]]\n",
    "    plt.arrow(fro[\"x\"], fro[\"y\"], to[\"x\"]-fro[\"x\"], to[\"y\"]-fro[\"y\"])"
   ]
  },
  {
   "cell_type": "code",
   "execution_count": 28,
   "id": "b8190edd",
   "metadata": {},
   "outputs": [],
   "source": [
    "def get_distance(x1, y1, x2, y2) :\n",
    "    return np.sqrt((x1-x2)**2 + abs(y1-y2)**2)\n",
    "\n",
    "def total_distance(solution, df):\n",
    "    distance = 0\n",
    "    for i in range(len(solution)-1):\n",
    "        fro = df.loc[solution[i]]\n",
    "        # print(fro)\n",
    "        to = df.loc[solution[i+1]]\n",
    "        distance += get_distance(fro[\"x\"], fro[\"y\"], to[\"x\"], to[\"y\"])\n",
    "        # print(distance)\n",
    "     # make it a circle\n",
    "    fro = df.loc[solution[len(solution)-1]]\n",
    "    to = df.loc[solution[0]]\n",
    "    distance += get_distance(fro[\"x\"], fro[\"y\"], to[\"x\"], to[\"y\"])\n",
    "    return distance"
   ]
  },
  {
   "cell_type": "code",
   "execution_count": 29,
   "id": "30a0c235",
   "metadata": {},
   "outputs": [
    {
     "name": "stderr",
     "output_type": "stream",
     "text": [
      "<ipython-input-29-f409b169b928>:1: ParserWarning: Falling back to the 'python' engine because the 'c' engine does not support regex separators (separators > 1 char and different from '\\s+' are interpreted as regex); you can avoid this warning by specifying engine='python'.\n",
      "  df = pd.read_csv(\"data/a280.tsp.txt\", skiprows=6, names=[\"id\", \"x\", \"y\"], header=None, delimiter = r\"[ ]{1,}\", index_col=0).drop(\"EOF\")\n"
     ]
    }
   ],
   "source": [
    "df = pd.read_csv(\"data/a280.tsp.txt\", skiprows=6, names=[\"id\", \"x\", \"y\"], header=None, delimiter = r\"[ ]{1,}\", index_col=0).drop(\"EOF\")\n",
    "# df = pd.read_csv(\"data/a280.tsp.txt\", skiprows=6, names=[\"id\", \"x\", \"y\"], header=None, delimiter = ' ', index_col=0).drop(\"EOF\")"
   ]
  },
  {
   "cell_type": "code",
   "execution_count": 5,
   "id": "cfba4ebf",
   "metadata": {},
   "outputs": [
    {
     "data": {
      "text/plain": [
       "x    288.0\n",
       "y    149.0\n",
       "Name: 1, dtype: float64"
      ]
     },
     "execution_count": 5,
     "metadata": {},
     "output_type": "execute_result"
    }
   ],
   "source": [
    "df.loc[\"1\"]"
   ]
  },
  {
   "cell_type": "code",
   "execution_count": 38,
   "id": "947b7c74",
   "metadata": {},
   "outputs": [],
   "source": [
    "sim = AnnealTVS(df, K = 10, num_sim=1,num_searches = 200,stopK = .1, alpha = 0.97, beta = 0.2, gamma = 0.5,\n",
    "                elementary=\"2opt\", verbose=False, alternate=True, secondary=\"insert\")"
   ]
  },
  {
   "cell_type": "code",
   "execution_count": 39,
   "id": "04cf0b4a",
   "metadata": {},
   "outputs": [
    {
     "data": {
      "text/plain": [
       "3160.500278080935"
      ]
     },
     "execution_count": 39,
     "metadata": {},
     "output_type": "execute_result"
    }
   ],
   "source": [
    "total_distance(sim.solution,df)"
   ]
  },
  {
   "cell_type": "code",
   "execution_count": 40,
   "id": "006e960d",
   "metadata": {},
   "outputs": [
    {
     "data": {
      "text/plain": [
       "3160.500278080935"
      ]
     },
     "execution_count": 40,
     "metadata": {},
     "output_type": "execute_result"
    }
   ],
   "source": [
    "sim.total_distance()"
   ]
  },
  {
   "cell_type": "code",
   "execution_count": 41,
   "id": "996020da",
   "metadata": {},
   "outputs": [],
   "source": [
    "matrix = np.zeros((len(df),len(df)))\n",
    "for row in range(len(df)):\n",
    "    # print(row)\n",
    "    fro = df.loc[f\"{row+1}\"]\n",
    "    # print(fro)\n",
    "for column in range(len(df)):\n",
    "    if row != column:\n",
    "        to = df.loc[f\"{column+1}\"]\n",
    "        matrix[row][column] = get_distance(fro[\"x\"], fro[\"y\"], to[\"x\"], to[\"y\"])"
   ]
  },
  {
   "cell_type": "code",
   "execution_count": 42,
   "id": "8a379d0c",
   "metadata": {},
   "outputs": [
    {
     "data": {
      "text/plain": [
       "array([[ 0.        ,  0.        ,  0.        , ...,  0.        ,\n",
       "         0.        ,  0.        ],\n",
       "       [ 0.        ,  0.        ,  0.        , ...,  0.        ,\n",
       "         0.        ,  0.        ],\n",
       "       [ 0.        ,  0.        ,  0.        , ...,  0.        ,\n",
       "         0.        ,  0.        ],\n",
       "       ...,\n",
       "       [ 0.        ,  0.        ,  0.        , ...,  0.        ,\n",
       "         0.        ,  0.        ],\n",
       "       [ 0.        ,  0.        ,  0.        , ...,  0.        ,\n",
       "         0.        ,  0.        ],\n",
       "       [17.88854382,  8.94427191, 10.        , ..., 29.12043956,\n",
       "        20.39607805,  0.        ]])"
      ]
     },
     "execution_count": 42,
     "metadata": {},
     "output_type": "execute_result"
    }
   ],
   "source": [
    "matrix"
   ]
  },
  {
   "cell_type": "code",
   "execution_count": 43,
   "id": "8a00f3dd",
   "metadata": {},
   "outputs": [
    {
     "data": {
      "text/plain": [
       "array([[ 0.        , 20.        , 24.08318916, ..., 43.26661531,\n",
       "        34.40930107, 17.88854382],\n",
       "       [20.        ,  0.        , 18.43908891, ..., 36.22154055,\n",
       "        28.        ,  8.94427191],\n",
       "       [24.08318916, 18.43908891,  0.        , ..., 19.6977156 ,\n",
       "        10.77032961, 10.        ],\n",
       "       ...,\n",
       "       [43.26661531, 36.22154055, 19.6977156 , ...,  0.        ,\n",
       "         8.94427191, 29.12043956],\n",
       "       [34.40930107, 28.        , 10.77032961, ...,  8.94427191,\n",
       "         0.        , 20.39607805],\n",
       "       [17.88854382,  8.94427191, 10.        , ..., 29.12043956,\n",
       "        20.39607805,  0.        ]])"
      ]
     },
     "execution_count": 43,
     "metadata": {},
     "output_type": "execute_result"
    }
   ],
   "source": [
    "sim.dist_matrix"
   ]
  },
  {
   "cell_type": "code",
   "execution_count": 44,
   "id": "c8798682",
   "metadata": {
    "scrolled": true
   },
   "outputs": [
    {
     "data": {
      "image/png": "[encoded data removed]",
      "text/plain": [
       "<Figure size 432x288 with 1 Axes>"
      ]
     },
     "metadata": {
      "needs_background": "light"
     },
     "output_type": "display_data"
    }
   ],
   "source": [
    "sim.plot_solution()"
   ]
  },
  {
   "cell_type": "code",
   "execution_count": 45,
   "id": "90271ce2",
   "metadata": {},
   "outputs": [],
   "source": [
    "res = sim.run_sim()"
   ]
  },
  {
   "cell_type": "code",
   "execution_count": 46,
   "id": "992b6a21",
   "metadata": {},
   "outputs": [
    {
     "data": {
      "image/png": "[encoded data removed]",
      "text/plain": [
       "<Figure size 432x288 with 1 Axes>"
      ]
     },
     "metadata": {
      "needs_background": "light"
     },
     "output_type": "display_data"
    }
   ],
   "source": [
    "sim.plot_solution()"
   ]
  },
  {
   "cell_type": "code",
   "execution_count": 47,
   "id": "28b26b53",
   "metadata": {},
   "outputs": [
    {
     "data": {
      "text/plain": [
       "3297.1820415765496"
      ]
     },
     "execution_count": 47,
     "metadata": {},
     "output_type": "execute_result"
    }
   ],
   "source": [
    "sim.total_distance()"
   ]
  },
  {
   "cell_type": "code",
   "execution_count": 48,
   "id": "ff68c065",
   "metadata": {},
   "outputs": [],
   "source": [
    "num_sims = 16\n",
    "results_sims= Parallel(n_jobs=8)(delayed(runsims)(num_sim = 2, temp=i*10, stopK=.01, alpha = 0.99, element=\"2opt\")\n",
    "                                      for i in range(num_sims))"
   ]
  },
  {
   "cell_type": "code",
   "execution_count": 49,
   "id": "bcc3ccc6",
   "metadata": {},
   "outputs": [
    {
     "name": "stdout",
     "output_type": "stream",
     "text": [
      "3215.8545762837484\n"
     ]
    }
   ],
   "source": [
    "best_solution = []\n",
    "best = 1000000\n",
    "for i in range(len(results_sims)):\n",
    "    for j in range(len(results_sims[i])):\n",
    "        distance = total_distance(results_sims[i][j], df)\n",
    "        if distance < best:\n",
    "            # update shortest distance\n",
    "            best = distance\n",
    "            # store best solution\n",
    "            best_solution = results_sims[i][j]\n",
    "            \n",
    "        # print(total_distance(results_sims[i][j], df))\n",
    "\n",
    "print(total_distance(best_solution, df))"
   ]
  },
  {
   "cell_type": "code",
   "execution_count": 50,
   "id": "a6f46672",
   "metadata": {},
   "outputs": [
    {
     "name": "stdout",
     "output_type": "stream",
     "text": [
      "['90', '91', '92', '93', '94', '95', '96', '97', '98', '99', '100', '101', '102', '103', '104', '105', '106', '107', '173', '174', '161', '162', '163', '164', '165', '166', '167', '168', '169', '170', '171', '172', '108', '110', '111', '114', '113', '87', '84', '83', '82', '81', '80', '79', '76', '75', '74', '73', '72', '71', '70', '67', '66', '65', '64', '63', '62', '118', '61', '60', '43', '42', '41', '40', '39', '38', '37', '36', '35', '34', '33', '31', '30', '125', '124', '123', '122', '121', '120', '119', '157', '158', '159', '160', '175', '181', '176', '177', '151', '152', '156', '153', '155', '154', '129', '128', '21', '20', '19', '18', '17', '133', '132', '131', '130', '127', '126', '29', '28', '27', '26', '22', '25', '23', '24', '14', '13', '12', '11', '10', '8', '7', '9', '275', '274', '273', '272', '271', '16', '15', '270', '134', '135', '136', '137', '138', '139', '140', '141', '142', '143', '144', '145', '146', '147', '148', '149', '150', '178', '179', '180', '182', '183', '184', '185', '187', '186', '189', '188', '190', '191', '192', '194', '195', '196', '197', '198', '199', '200', '201', '202', '203', '204', '205', '206', '207', '208', '209', '210', '211', '212', '213', '214', '215', '216', '217', '218', '219', '220', '221', '222', '223', '224', '225', '226', '227', '228', '229', '230', '251', '250', '247', '244', '241', '240', '239', '238', '231', '232', '233', '234', '235', '236', '237', '246', '245', '243', '242', '2', '280', '3', '279', '278', '4', '277', '276', '6', '5', '1', '248', '249', '256', '255', '252', '253', '254', '257', '258', '259', '260', '261', '262', '263', '264', '265', '266', '267', '268', '269', '32', '50', '49', '48', '47', '46', '45', '44', '57', '56', '55', '54', '53', '52', '51', '58', '59', '68', '69', '85', '86', '116', '115', '117', '112', '88', '89', '109', '77', '78', '193']\n"
     ]
    }
   ],
   "source": [
    "print(best_solution)"
   ]
  },
  {
   "cell_type": "code",
   "execution_count": 51,
   "id": "95909041",
   "metadata": {},
   "outputs": [
    {
     "name": "stdout",
     "output_type": "stream",
     "text": [
      "['2', '242', '243', '244', '241', '240', '239', '238', '237', '236', '235', '234', '233', '232', '231', '246', '245', '247', '250', '251', '230', '229', '228', '227', '226', '225', '224', '223', '222', '221', '220', '219', '218', '217', '216', '215', '214', '213', '212', '211', '210', '207', '206', '205', '204', '203', '202', '201', '198', '197', '196', '195', '194', '193', '192', '191', '190', '189', '188', '187', '186', '185', '184', '183', '182', '181', '176', '180', '179', '150', '178', '177', '151', '152', '156', '153', '155', '154', '129', '130', '131', '20', '21', '128', '127', '126', '125', '124', '123', '122', '121', '120', '119', '157', '158', '159', '160', '175', '161', '162', '163', '164', '165', '166', '167', '168', '169', '170', '172', '171', '173', '174', '107', '106', '105', '104', '103', '102', '101', '100', '99', '98', '97', '96', '95', '94', '93', '92', '91', '90', '89', '109', '108', '110', '111', '112', '88', '87', '113', '114', '115', '117', '116', '86', '85', '84', '83', '82', '81', '80', '79', '78', '77', '76', '75', '74', '73', '72', '71', '70', '69', '68', '67', '66', '65', '64', '58', '57', '56', '55', '54', '53', '52', '51', '50', '49', '48', '47', '46', '45', '44', '59', '63', '62', '118', '61', '60', '43', '42', '41', '40', '39', '38', '37', '36', '35', '34', '33', '32', '31', '30', '29', '28', '27', '26', '22', '25', '23', '24', '14', '15', '13', '12', '11', '10', '9', '8', '7', '6', '5', '4', '277', '276', '275', '274', '273', '272', '271', '16', '17', '18', '19', '132', '133', '134', '270', '269', '135', '136', '268', '267', '137', '138', '139', '149', '148', '147', '146', '145', '199', '200', '144', '143', '142', '141', '140', '266', '265', '264', '263', '262', '261', '260', '259', '258', '257', '254', '253', '208', '209', '252', '255', '256', '249', '248', '278', '279', '3', '280']\n",
      "2557.8253756531617\n"
     ]
    },
    {
     "name": "stderr",
     "output_type": "stream",
     "text": [
      "<ipython-input-51-b734f01d1081>:11: ParserWarning: Falling back to the 'python' engine because the 'c' engine does not support regex separators (separators > 1 char and different from '\\s+' are interpreted as regex); you can avoid this warning by specifying engine='python'.\n",
      "  df = pd.read_csv(\"data/a280.tsp.txt\", skiprows=6, names=[\"id\", \"x\", \"y\"], header=None, delimiter = r\"[ ]{1,}\", index_col=0).drop(\"EOF\")\n"
     ]
    }
   ],
   "source": [
    "# df = pd.read_csv(\"data/eil51.opt.tour.txt\", skiprows=5, names=[\"cities\"], header=None, delimiter = ' ', index_col=0).drop(\"EOF\")\n",
    "df = pd.read_csv(\"data/a280.opt.tour.txt\", skiprows=5, names=[\"cities\"], header=None, delimiter = ' ', index_col=0)\n",
    "opt_tour = []\n",
    "for index, row in df.iterrows():\n",
    "    opt_tour.append(str(index))\n",
    "opt_tour.pop()\n",
    "print(opt_tour)\n",
    "\n",
    "\n",
    "# df = pd.read_csv(\"data/eil51.tsp.txt\", skiprows=6, names=[\"id\", \"x\", \"y\"], header=None, delimiter = ' ', index_col=0).drop(\"EOF\")\n",
    "df = pd.read_csv(\"data/a280.tsp.txt\", skiprows=6, names=[\"id\", \"x\", \"y\"], header=None, delimiter = r\"[ ]{1,}\", index_col=0).drop(\"EOF\")\n",
    "print(total_distance(opt_tour, df))\n"
   ]
  },
  {
   "cell_type": "markdown",
   "id": "b47a314d",
   "metadata": {},
   "source": [
    "## TO-DO LIST FOR PAPER:\n",
    "1. Plot that compares different elementary strategies. All elementary strategies share the same parameters, except for the main strategy, i.e. swap, insert, 2-opt, etc.\n",
    "Idea could be to run each elementary strategy 100 times. For each elementary strategy we then have a best tour, and we can make distribution plots of the mean tour lengths and compare these distributions (as we did in assignment 2). First, test how a distribution of e.g. 100 runs looks like.\n",
    "\n",
    "2. Compare the outcomes of different starting temperatures, all other params equal (for our optimal elementary+secondary strategy, probably 2opt+something). We could make a plot comparing several starting temperatures, and how the length of the tour (i.e. cost) goes down over the iterations. I.e. Y axis is tour length, X axis is iterations.\n",
    "\n",
    "3. Compare the outcomes of different cooling schedules, i.e. different alphas, all other params equal (for our optimal elementary+secondary strategy, probably 2opt+something). We could make a plot comparing several starting cooling schedules, and how the length of the tour (i.e. cost) goes down over the iterations. I.e. Y axis is tour length, X axis is iterations.\n",
    "\n",
    "4. What would be really nice is to make some 3D plots, assessing the overall optimal combination of cooling schedule + starting temp vs. the tour length. Sometihng like Y-axis tour length, X-axis cooling schedule, Y-axis starting temp, and then plot the points. "
   ]
  },
  {
   "cell_type": "code",
   "execution_count": null,
   "id": "c653e2dd",
   "metadata": {},
   "outputs": [],
   "source": [
    "# num_sims = 8\n",
    "# results_sims= Parallel(n_jobs=8)(delayed(runsims)(num_sim = 10, temp=i, stopK=.1, element=\"2opt\")\n",
    "#                                       for i in range(num_sims))"
   ]
  },
  {
   "cell_type": "code",
   "execution_count": null,
   "id": "bd7ed3ce",
   "metadata": {},
   "outputs": [],
   "source": [
    "# total_distance(results_sims[0][0], df)"
   ]
  },
  {
   "cell_type": "code",
   "execution_count": null,
   "id": "a897f041",
   "metadata": {},
   "outputs": [],
   "source": [
    "# for i in range(len(results_sims)):\n",
    "#     for j in range(len(results_sims[i])):\n",
    "#         print(total_distance(results_sims[i][j], df))"
   ]
  },
  {
   "cell_type": "code",
   "execution_count": null,
   "id": "a211379a",
   "metadata": {},
   "outputs": [],
   "source": [
    "# num_sims = 8\n",
    "# results_sims= Parallel(n_jobs=8)(delayed(runsims)(num_sim = 10, temp=i*10, stopK=.1, alpha = 0.9, element=\"insert\")\n",
    "#                                       for i in range(num_sims))"
   ]
  },
  {
   "cell_type": "code",
   "execution_count": null,
   "id": "f78f4d38",
   "metadata": {
    "scrolled": true
   },
   "outputs": [],
   "source": [
    "# for i in range(len(results_sims)):\n",
    "#     for j in range(len(results_sims[i])):\n",
    "#         print(total_distance(results_sims[i][j], df))"
   ]
  },
  {
   "cell_type": "code",
   "execution_count": null,
   "id": "f7f4c7d9",
   "metadata": {},
   "outputs": [],
   "source": [
    "# num_sims = 8\n",
    "# results_sims= Parallel(n_jobs=8)(delayed(runsims)(num_sim = 1, temp=i*10, stopK=.01, alpha = 0.99, element=\"insert\")\n",
    "#                                       for i in range(num_sims))"
   ]
  },
  {
   "cell_type": "code",
   "execution_count": null,
   "id": "6f27a03e",
   "metadata": {},
   "outputs": [],
   "source": [
    "# best_solution:\n",
    "# for i in range(len(results_sims)):\n",
    "#     for j in range(len(results_sims[i])):\n",
    "#         print(total_distance(results_sims[i][j], df))"
   ]
  }
 ],
 "metadata": {
  "kernelspec": {
   "display_name": "Python 3",
   "language": "python",
   "name": "python3"
  },
  "language_info": {
   "codemirror_mode": {
    "name": "ipython",
    "version": 3
   },
   "file_extension": ".py",
   "mimetype": "text/x-python",
   "name": "python",
   "nbconvert_exporter": "python",
   "pygments_lexer": "ipython3",
   "version": "3.8.5"
  }
 },
 "nbformat": 4,
 "nbformat_minor": 5
}
