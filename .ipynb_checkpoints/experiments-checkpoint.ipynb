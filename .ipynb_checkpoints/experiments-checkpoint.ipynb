{
 "cells": [
  {
   "cell_type": "code",
   "execution_count": 1,
   "id": "e9cd33b4",
   "metadata": {},
   "outputs": [],
   "source": [
    "from helpers import *\n",
    "from tqdm import notebook\n",
    "from joblib import Parallel, delayed\n",
    "import scipy.stats as st\n",
    "import pandas as pd\n",
    "import seaborn as sns\n",
    "from itertools import zip_longest\n",
    "import csv"
   ]
  },
  {
   "cell_type": "code",
   "execution_count": 2,
   "id": "30a0c235",
   "metadata": {},
   "outputs": [],
   "source": [
    "df = pd.read_csv(\"data/a280.tsp.txt\", skiprows=6, names=[\"id\", \"x\", \"y\"], \n",
    "                 header=None, delimiter = r\"[ ]{1,}\", index_col=0, engine='python').drop(\"EOF\")"
   ]
  },
  {
   "cell_type": "code",
   "execution_count": null,
   "id": "3db63333",
   "metadata": {},
   "outputs": [],
   "source": [
    "# globals\n",
    "START_TEMP = 10\n",
    "ALPHA = 0.99\n",
    "STOP_TEMP = 0.1\n",
    "MARKOV_LENGTH = 50\n",
    "STRAT = \"2opt\"\n",
    "DATA_POINTS = 160"
   ]
  },
  {
   "cell_type": "code",
   "execution_count": null,
   "id": "f80da4cf",
   "metadata": {},
   "outputs": [],
   "source": [
    "# elementary edit experiment\n",
    "def experiment1(strat, alt_strat=False, second_strat=-1):\n",
    "    sim = AnnealTVS(df, K=START_TEMP, stopK=STOP_TEMP, alpha = ALPHA, markov_length = MARKOV_LENGTH, elementary=strat, alternate=alt_strat, secondary=second_strat)\n",
    "    ans = sim.run_sim()\n",
    "    return ans    "
   ]
  },
  {
   "cell_type": "code",
   "execution_count": null,
   "id": "78c4c5da",
   "metadata": {},
   "outputs": [],
   "source": [
    "%%time\n",
    "# try 2opt\n",
    "strat=\"2opt\"\n",
    "results_2opt= Parallel(n_jobs=8)(delayed(experiment1)(strat = strat)\n",
    "                                      for i in range(DATA_POINTS))\n",
    "strat=\"insert\"\n",
    "results_insert= Parallel(n_jobs=8)(delayed(experiment1)(strat = strat)\n",
    "                                      for i in range(DATA_POINTS))\n",
    "strat=\"swap\"\n",
    "results_swap= Parallel(n_jobs=8)(delayed(experiment1)(strat = strat)\n",
    "                                      for i in range(DATA_POINTS))\n",
    "strat=\"insert\"\n",
    "second_strat=\"2opt\"\n",
    "results_ins2opt= Parallel(n_jobs=8)(delayed(experiment1)(strat = strat, alt_strat = True, second_strat = second_strat)\n",
    "                                      for i in range(DATA_POINTS))\n"
   ]
  },
  {
   "cell_type": "code",
   "execution_count": null,
   "id": "35f84087",
   "metadata": {},
   "outputs": [],
   "source": [
    "res_2opt = []\n",
    "for result in results_2opt:\n",
    "    res_2opt.append(result[0])\n",
    "\n",
    "res_insert = []\n",
    "for result in results_insert:\n",
    "    res_insert.append(result[0])\n",
    "\n",
    "res_swap = []\n",
    "for result in results_swap:\n",
    "    res_swap.append(result[0])\n",
    "\n",
    "res_ins2opt = []\n",
    "for result in results_ins2opt:\n",
    "    res_ins2opt.append(result[0])\n",
    "\n",
    "with open('./outputdata/stratcomp.csv', 'w', newline='') as myfile:\n",
    "    w = csv.writer(myfile)\n",
    "    # w.writerow(['2opt','insert','swap'])\n",
    "    for x, y, z, a in zip_longest(res_2opt, res_insert, res_swap, res_ins2opt):\n",
    "        w.writerow([x, y, z, a])"
   ]
  },
  {
   "cell_type": "code",
   "execution_count": null,
   "id": "107489fd",
   "metadata": {},
   "outputs": [],
   "source": [
    "# r_2opt, r_insert, r_swap = np.loadtxt(\"./outputdata/stratcomp.csv\", delimiter=\",\", unpack=True)\n",
    "r_2opt, r_insert, r_swap, r_ins2opt = np.loadtxt(\"./outputdata/stratcomp_v2.csv\", delimiter=\",\", unpack=True)\n",
    "all_strat_results = [r_2opt, r_insert, r_swap, r_ins2opt]\n",
    "all_strat_names = ['2opt', 'insert', 'swap', 'insert-2opt']"
   ]
  },
  {
   "cell_type": "code",
   "execution_count": null,
   "id": "e304f84c",
   "metadata": {},
   "outputs": [],
   "source": [
    "fig = plt.figure(figsize=(8, 6), dpi=100)\n",
    "ax = fig.add_subplot(111, axisbelow=True)\n",
    "ax = sns.kdeplot(r_2opt, shade=True, color=\"#0051a2\", label='2opt')\n",
    "ax = sns.kdeplot(r_insert, shade=True, color=\"#10542c\", label='Insert')\n",
    "ax = sns.kdeplot(r_swap, shade=True, color=\"#ff005e\", label='Swap')\n",
    "ax = sns.kdeplot(r_ins2opt, shade=True, color=\"red\", label='Insert-2opt')\n",
    "plt.xlabel('Tour Length')\n",
    "plt.title('Mean Tour Lenghts for Different Strategies')\n",
    "plt.legend()\n",
    "plt.show()\n",
    "fig.savefig(\"./figures/strats_distr.png\")"
   ]
  },
  {
   "cell_type": "code",
   "execution_count": null,
   "id": "2a875d2c",
   "metadata": {},
   "outputs": [],
   "source": [
    "# set width of bars\n",
    "barWidth = 0.5\n",
    "bar = [np.mean(all_strat_results[i]) for i in range(len(all_strat_results))]\n",
    "err = [np.std(all_strat_results[i]) for i in range(len(all_strat_results))]\n",
    "\n",
    "\n",
    "# Set position of bar on X axis\n",
    "r1 = np.arange(len(all_strat_results))\n",
    "\n",
    " \n",
    "# Make the plot\n",
    "fig = plt.figure(figsize=(8, 6), dpi=100)\n",
    "ax = fig.add_subplot(111, axisbelow=True)\n",
    "ax.bar(r1, bar, yerr = err, color=\"#0051a2\", width=barWidth, edgecolor='white', capsize=10)\n",
    "\n",
    "# Add xticks on the middle of the group bars\n",
    "plt.ylabel('Mean Tour Length')\n",
    "plt.xlabel('Strategies')\n",
    "plt.title('Mean Tour Lengths for Different Strategies')\n",
    "plt.xticks([r for r in range(len(all_strat_results))], all_strat_names)\n",
    "plt.ylim(2500,)\n",
    "\n",
    " \n",
    "# Create legend & Show graphic\n",
    "plt.show()\n",
    "fig.savefig(\"./figures/strats_barplot.png\")"
   ]
  },
  {
   "cell_type": "code",
   "execution_count": null,
   "id": "c776a7ee",
   "metadata": {},
   "outputs": [],
   "source": [
    "# TESTS\n",
    "\n",
    "#Welch test for equal\n",
    "stat, pval = st.ttest_ind(r_2opt, r_insert, equal_var=False)\n",
    "print(f'2opt vs. insert, p-value: {pval}, t-value: {stat}')\n",
    "stat, pval = st.ttest_ind(r_2opt, r_swap, equal_var=False)\n",
    "print(f'2opt vs. swap, p-value: {pval}, t-value: {stat}')\n",
    "stat, pval = st.ttest_ind(r_insert, r_swap, equal_var=False)\n",
    "print(f'insert vs. swap, p-value: {pval}, t-value: {stat}')\n",
    "\n",
    "stat, pval = st.ttest_ind(r_insert, r_ins2opt, equal_var=False)\n",
    "print(f'2opt vs. insert-2opt, p-value: {pval}, t-value: {stat}')"
   ]
  },
  {
   "cell_type": "code",
   "execution_count": null,
   "id": "55432a19",
   "metadata": {},
   "outputs": [],
   "source": [
    "# globals\n",
    "START_TEMP = 3\n",
    "ALPHA = 0.99\n",
    "STOP_TEMP = 0.0001\n",
    "MARKOV_LENGTH = 200\n",
    "STRAT = \"insert\"\n",
    "SECOND_STRAT = \"2opt\"\n",
    "DATA_POINTS = 160\n",
    "\n",
    "# starting temp experiment\n",
    "def experiment2(temp):\n",
    "    sim = AnnealTVS(df, K=temp, stopK=STOP_TEMP, alpha = ALPHA, markov_length = MARKOV_LENGTH, elementary=STRAT, alternate=True, secondary=SECOND_STRAT)\n",
    "    ans = sim.run_sim()\n",
    "    return ans   \n",
    "    "
   ]
  },
  {
   "cell_type": "code",
   "execution_count": null,
   "id": "1f5726dc",
   "metadata": {},
   "outputs": [],
   "source": [
    "%%time\n",
    "# try some temperatures\n",
    "temp = 5\n",
    "results_5= Parallel(n_jobs=8)(delayed(experiment2)(temp=temp)\n",
    "                                      for i in range(DATA_POINTS))\n",
    "temp = 10\n",
    "results_10= Parallel(n_jobs=8)(delayed(experiment2)(temp=temp)\n",
    "                                      for i in range(DATA_POINTS))\n",
    "temp = 20\n",
    "results_20= Parallel(n_jobs=8)(delayed(experiment2)(temp=temp)\n",
    "                                      for i in range(DATA_POINTS))\n",
    "temp = 30\n",
    "results_30= Parallel(n_jobs=8)(delayed(experiment2)(temp=temp)\n",
    "                                      for i in range(DATA_POINTS))\n",
    "temp = 40\n",
    "results_40= Parallel(n_jobs=8)(delayed(experiment2)(temp=temp)\n",
    "                                      for i in range(DATA_POINTS))\n",
    "temp = 50\n",
    "results_50= Parallel(n_jobs=8)(delayed(experiment2)(temp=temp)\n",
    "                                      for i in range(DATA_POINTS))\n",
    "temp = 100\n",
    "results_100= Parallel(n_jobs=8)(delayed(experiment2)(temp=temp)\n",
    "                                      for i in range(DATA_POINTS))\n",
    "\n"
   ]
  },
  {
   "cell_type": "code",
   "execution_count": null,
   "id": "020690a4",
   "metadata": {},
   "outputs": [],
   "source": [
    "res_t5 = []\n",
    "for result in results_5:\n",
    "    res_t5.append(result[0])\n",
    "\n",
    "res_t10 = []\n",
    "for result in results_10:\n",
    "    res_t10.append(result[0])\n",
    "\n",
    "res_t20 = []\n",
    "for result in results_20:\n",
    "    res_t20.append(result[0])\n",
    "\n",
    "res_t30 = []\n",
    "for result in results_30:\n",
    "    res_t30.append(result[0])\n",
    "\n",
    "res_t40 = []\n",
    "for result in results_40:\n",
    "    res_t40.append(result[0])\n",
    "\n",
    "res_t50 = []\n",
    "for result in results_50:\n",
    "    res_t50.append(result[0])\n",
    "\n",
    "res_t100 = []\n",
    "for result in results_100:\n",
    "    res_t100.append(result[0])\n",
    "\n",
    "with open('./outputdata/tempcomp.csv', 'w', newline='') as myfile:\n",
    "    w = csv.writer(myfile)\n",
    "    # w.writerow(['2opt','insert','swap'])\n",
    "    for a, b, c, d, e, f, g in zip_longest(res_t5, res_t10, res_t20, res_t30, res_t40, res_t50, res_t100):\n",
    "        w.writerow([a, b, c, d, e, f, g])"
   ]
  },
  {
   "cell_type": "code",
   "execution_count": null,
   "id": "cf63d0fb",
   "metadata": {},
   "outputs": [],
   "source": [
    "# Analyze results of different temperatures\n",
    "res_t5, res_t10, res_t20, res_t30, res_t40, res_t50, res_t100 = np.loadtxt(\"./outputdata/tempcomp.csv\", delimiter=\",\", unpack=True)\n",
    "all_temp_results = [res_t5, res_t10, res_t20, res_t30, res_t40, res_t50, res_t100]\n",
    "all_temp_names = [5, 10, 20, 30, 40, 50, 100]"
   ]
  },
  {
   "cell_type": "code",
   "execution_count": null,
   "id": "554be9bc",
   "metadata": {},
   "outputs": [],
   "source": [
    "# set width of bars\n",
    "barWidth = 0.5\n",
    "bar = [np.mean(all_temp_results[i]) for i in range(len(all_temp_results))]\n",
    "err = [np.std(all_temp_results[i]) for i in range(len(all_temp_results))]\n",
    "\n",
    "\n",
    "# Set position of bar on X axis\n",
    "r1 = np.arange(len(all_temp_results))\n",
    "\n",
    " \n",
    "# Make the plot\n",
    "fig = plt.figure(figsize=(8, 6), dpi=100)\n",
    "ax = fig.add_subplot(111, axisbelow=True)\n",
    "ax.bar(r1, bar, yerr = err, color=\"#0051a2\", width=barWidth, edgecolor='white', capsize=10)\n",
    "\n",
    "# Add xticks on the middle of the group bars\n",
    "plt.ylabel('Mean Tour Length')\n",
    "plt.xlabel('Starting Temperatures')\n",
    "plt.title('Mean Tour Lengths for Different Starting Temperatures')\n",
    "plt.xticks([r for r in range(len(all_temp_results))], all_temp_names)\n",
    "plt.ylim(2500,)\n",
    "\n",
    " \n",
    "# Create legend & Show graphic\n",
    "plt.show()\n",
    "fig.savefig(\"./figures/temp_barplot.png\")"
   ]
  },
  {
   "cell_type": "code",
   "execution_count": null,
   "id": "833089d7",
   "metadata": {},
   "outputs": [],
   "source": [
    "fig = plt.figure(figsize=(8, 6), dpi=100)\n",
    "ax = fig.add_subplot(111, axisbelow=True)\n",
    "for i in range(len(all_temp_results)):\n",
    "    ax = sns.kdeplot(all_temp_results[i], shade=False, label=all_temp_names[i])\n",
    "plt.xlabel('Tour Length')\n",
    "plt.title('Mean Tour Lenghts for Different Starting Temperatures')\n",
    "plt.legend()\n",
    "plt.show()\n",
    "fig.savefig(\"./figures/temp_distr.png\")"
   ]
  },
  {
   "cell_type": "code",
   "execution_count": null,
   "id": "a43af20d",
   "metadata": {},
   "outputs": [],
   "source": [
    "# TESTS\n",
    "\n",
    "#Welch test\n",
    "stat, pval = st.ttest_ind(res_t5, res_t100, equal_var=False)\n",
    "print(f'5 vs. 100, p-value: {pval}, t-value: {stat}')\n",
    "stat, pval = st.ttest_ind(res_t50, res_t100, equal_var=False)\n",
    "print(f'50 vs. 100, p-value: {pval}, t-value: {stat}')\n",
    "stat, pval = st.ttest_ind(res_t5, res_t10, equal_var=False)\n",
    "print(f'5 vs. 10, p-value: {pval}, t-value: {stat}')\n",
    "stat, pval = st.ttest_ind(res_t5, res_t20, equal_var=False)\n",
    "print(f'5 vs. 20, p-value: {pval}, t-value: {stat}')\n"
   ]
  },
  {
   "cell_type": "code",
   "execution_count": null,
   "id": "62339318",
   "metadata": {},
   "outputs": [],
   "source": [
    "# mins = [np.min(all_temp_results[i]) for i in range(len(all_temp_results))]\n",
    "# print(mins)"
   ]
  },
  {
   "cell_type": "code",
   "execution_count": null,
   "id": "69b0060a",
   "metadata": {},
   "outputs": [],
   "source": [
    "# globals\n",
    "START_TEMP = 3\n",
    "ALPHA = 0.99\n",
    "STOP_TEMP = 0.0001\n",
    "MARKOV_LENGTH = 200\n",
    "STRAT = \"insert\"\n",
    "SECOND_STRAT = \"2opt\"\n",
    "DATA_POINTS = 160\n",
    "\n",
    "# Markov Chain length\n",
    "def experiment3(length):\n",
    "    sim = AnnealTVS(df, K=START_TEMP, stopK=STOP_TEMP, alpha = ALPHA, markov_length = length, elementary=STRAT, alternate=True, secondary=SECOND_STRAT)\n",
    "    ans = sim.run_sim()\n",
    "    return ans   \n",
    "    "
   ]
  },
  {
   "cell_type": "code",
   "execution_count": null,
   "id": "30ee5635",
   "metadata": {},
   "outputs": [],
   "source": [
    "%%time\n",
    "# try some lengths\n",
    "length = 50\n",
    "results_50= Parallel(n_jobs=8)(delayed(experiment3)(length=length)\n",
    "                                      for i in range(DATA_POINTS))\n",
    "length = 100\n",
    "results_100= Parallel(n_jobs=8)(delayed(experiment3)(length=length)\n",
    "                                      for i in range(DATA_POINTS))\n",
    "length = 200\n",
    "results_200= Parallel(n_jobs=8)(delayed(experiment3)(length=length)\n",
    "                                      for i in range(DATA_POINTS))\n",
    "length = 300\n",
    "results_300= Parallel(n_jobs=8)(delayed(experiment3)(length=length)\n",
    "                                      for i in range(DATA_POINTS))\n",
    "length = 400\n",
    "results_400= Parallel(n_jobs=8)(delayed(experiment3)(length=length)\n",
    "                                      for i in range(DATA_POINTS))              \n",
    "length = 500\n",
    "results_500= Parallel(n_jobs=8)(delayed(experiment3)(length=length)\n",
    "                                      for i in range(DATA_POINTS))"
   ]
  },
  {
   "cell_type": "code",
   "execution_count": null,
   "id": "64af6b2b",
   "metadata": {},
   "outputs": [],
   "source": [
    "res_len50 = []\n",
    "for result in results_50:\n",
    "    res_len50.append(result[0])\n",
    "\n",
    "res_len100 = []\n",
    "for result in results_100:\n",
    "    res_len100.append(result[0])\n",
    "\n",
    "res_len200 = []\n",
    "for result in results_200:\n",
    "    res_len200.append(result[0])\n",
    "\n",
    "res_len300 = []\n",
    "for result in results_300:\n",
    "    res_len300.append(result[0])\n",
    "\n",
    "res_len400 = []\n",
    "for result in results_400:\n",
    "    res_len400.append(result[0])\n",
    "\n",
    "res_len500 = []\n",
    "for result in results_500:\n",
    "    res_len500.append(result[0])\n",
    "\n",
    "with open('./outputdata/markovlencomp.csv', 'w', newline='') as myfile:\n",
    "    w = csv.writer(myfile)\n",
    "    # w.writerow(['2opt','insert','swap'])\n",
    "    for a, b, c, d, e, f in zip_longest(res_len50, res_len100, res_len200, res_len300, res_len400, res_len500):\n",
    "        w.writerow([a, b, c, d, e, f])"
   ]
  },
  {
   "cell_type": "code",
   "execution_count": null,
   "id": "25951c4c",
   "metadata": {},
   "outputs": [],
   "source": [
    "res_len50, res_len100, res_len200, res_len300, res_len400, res_len500 = np.loadtxt(\"./outputdata/markovlencomp.csv\", delimiter=\",\", unpack=True)\n",
    "all_len_results = [res_len50, res_len100, res_len200, res_len300, res_len400, res_len500]\n",
    "all_len_names = [50, 100, 200, 300, 400, 500]"
   ]
  },
  {
   "cell_type": "code",
   "execution_count": null,
   "id": "0c2659bb",
   "metadata": {},
   "outputs": [],
   "source": [
    "# set width of bars\n",
    "barWidth = 0.5\n",
    "bar = [np.mean(all_len_results[i]) for i in range(len(all_len_results))]\n",
    "err = [np.std(all_len_results[i]) for i in range(len(all_len_results))]\n",
    "\n",
    "\n",
    "# Set position of bar on X axis\n",
    "r1 = np.arange(len(all_len_results))\n",
    "\n",
    " \n",
    "# Make the plot\n",
    "fig = plt.figure(figsize=(8, 6), dpi=100)\n",
    "ax = fig.add_subplot(111, axisbelow=True)\n",
    "ax.bar(r1, bar, yerr = err, color=\"#0051a2\", width=barWidth, edgecolor='white', capsize=10)\n",
    "\n",
    "# Add xticks on the middle of the group bars\n",
    "plt.ylabel('Mean Tour Length')\n",
    "plt.xlabel('Starting Temperatures')\n",
    "plt.title('Mean Tour Lengths for Different Markov Chain Lengths')\n",
    "plt.xticks([r for r in range(len(all_len_results))], all_len_names)\n",
    "plt.ylim(2500,)\n",
    "\n",
    " \n",
    "# Create legend & Show graphic\n",
    "plt.show()\n",
    "fig.savefig(\"./figures/len_barplot.png\")"
   ]
  },
  {
   "cell_type": "code",
   "execution_count": null,
   "id": "fa9df18f",
   "metadata": {},
   "outputs": [],
   "source": [
    "fig = plt.figure(figsize=(8, 6), dpi=100)\n",
    "ax = fig.add_subplot(111, axisbelow=True)\n",
    "for i in range(len(all_len_results)):\n",
    "    ax = sns.kdeplot(all_len_results[i], shade=False, label=all_len_names[i])\n",
    "plt.xlabel('Tour Length')\n",
    "plt.title('Mean Tour Lenghts for Different Markov Chain Lengths')\n",
    "plt.legend()\n",
    "plt.show()\n",
    "fig.savefig(\"./figures/len_distr.png\")"
   ]
  },
  {
   "cell_type": "code",
   "execution_count": null,
   "id": "42832cce",
   "metadata": {},
   "outputs": [],
   "source": [
    "#Welch test \n",
    "stat, pval = st.ttest_ind(res_len50, res_len100, equal_var=False)\n",
    "print(f'50 vs. 100, p-value: {pval}, t-value: {stat}')\n",
    "stat, pval = st.ttest_ind(res_len100, res_len200, equal_var=False)\n",
    "print(f'100 vs. 200, p-value: {pval}, t-value: {stat}')\n",
    "stat, pval = st.ttest_ind(res_len200, res_len300, equal_var=False)\n",
    "print(f'200 vs. 300, p-value: {pval}, t-value: {stat}')\n",
    "stat, pval = st.ttest_ind(res_len300, res_len400, equal_var=False)\n",
    "print(f'300 vs. 400, p-value: {pval}, t-value: {stat}')\n",
    "stat, pval = st.ttest_ind(res_len300, res_len500, equal_var=False)\n",
    "print(f'300 vs. 500, p-value: {pval}, t-value: {stat}')"
   ]
  },
  {
   "cell_type": "code",
   "execution_count": null,
   "id": "32759681",
   "metadata": {},
   "outputs": [],
   "source": [
    "def nearest_neighbours(df, matrix):\n",
    "    \"\"\"Creates a starting point using a greedy nearest neighbour algorithm.\n",
    "    Returns:\n",
    "        List: A list with the order of the cities that are travelled.\n",
    "    \"\"\"\n",
    "    free_nodes = []\n",
    "    for row in range(df.shape[0]):\n",
    "        free_nodes.append(df.iloc[row].name)\n",
    "    sol = []\n",
    "    cur_node = df.loc[random.choice(free_nodes)]\n",
    "    sol.append(cur_node.name)\n",
    "    free_nodes.remove(cur_node.name)\n",
    "    while free_nodes:\n",
    "        first = True\n",
    "        for node in free_nodes:\n",
    "            next_node = df.loc[node]\n",
    "            new_dist = get_distance(cur_node[\"x\"], cur_node[\"y\"], next_node[\"x\"], next_node[\"y\"])\n",
    "            if first:\n",
    "                closest = node\n",
    "                old_dist = new_dist\n",
    "                first = False\n",
    "            else: \n",
    "                if new_dist < old_dist:\n",
    "                    closest = node\n",
    "                    old_dist = new_dist\n",
    "        sol.append(closest)\n",
    "        cur_node = df.loc[closest]\n",
    "        free_nodes.remove(closest)\n",
    "        \n",
    "    dist = total_distance(matrix, sol)\n",
    "        \n",
    "    return dist\n",
    "\n",
    "\n",
    "def get_distance(x1, y1, x2, y2) :\n",
    "    \"\"\"Computes the Euclidean distance between two points.\n",
    "    Args:\n",
    "        x1 (int): X coordinate of the first city.\n",
    "        y1 (int): Y coordinate of the first city.\n",
    "        x2 (int): X coordinate of the second city.\n",
    "        y2 (int): X coordinate of the second city.\n",
    "    Returns:\n",
    "        [float]: Distance.\n",
    "    \"\"\"\n",
    "    return np.sqrt((x1-x2)**2 + abs(y1-y2)**2)\n",
    "\n",
    "\n",
    "def total_distance(dist_matrix, solution):\n",
    "    \"\"\"The total distance of a given solution\n",
    "    Args:\n",
    "        solution (int, optional): A solution.\n",
    "    Returns:\n",
    "        float: Total distance.\n",
    "    \"\"\"\n",
    "\n",
    "    distance = 0\n",
    "    for i in range(len(solution)-1):\n",
    "        distance += dist_matrix[int(solution[i])-1][int(solution[i+1])-1]\n",
    "    # make it a circle\n",
    "    distance += dist_matrix[int(solution[i+1])-1][int(solution[0])-1]\n",
    "    return distance\n",
    "\n",
    "\n",
    "def build_matrix(df):\n",
    "    \"\"\"Builds a distance matrix of all the cities in the dataframe.\n",
    "    Returns:\n",
    "        [numpy matrix]: A matrix that contains the distance between two cities\n",
    "    \"\"\"\n",
    "    matrix = np.zeros((len(df),len(df)))\n",
    "    for row in range(len(df)):\n",
    "        fro = df.loc[f\"{row+1}\"]\n",
    "        for column in range(len(df)):\n",
    "            if row != column:\n",
    "                to = df.loc[f\"{column+1}\"]\n",
    "                matrix[row][column] = get_distance(fro[\"x\"], fro[\"y\"], to[\"x\"], to[\"y\"])\n",
    "    \n",
    "    return matrix"
   ]
  },
  {
   "cell_type": "code",
   "execution_count": null,
   "id": "1af985a6",
   "metadata": {},
   "outputs": [],
   "source": [
    "matrix = build_matrix(df)"
   ]
  },
  {
   "cell_type": "code",
   "execution_count": null,
   "id": "9d76b661",
   "metadata": {
    "scrolled": true
   },
   "outputs": [],
   "source": [
    "results_start= Parallel(n_jobs=8)(delayed(nearest_neighbours)(matrix=matrix, df=df)\n",
    "                                      for i in range(300))"
   ]
  },
  {
   "cell_type": "code",
   "execution_count": null,
   "id": "732bf591",
   "metadata": {},
   "outputs": [],
   "source": [
    "with open('./outputdata/startingpoints.csv', 'w', newline='') as myfile:\n",
    "    w = csv.writer(myfile)\n",
    "    # w.writerow(['2opt','insert','swap'])\n",
    "    for a in results_start:\n",
    "        w.writerow([a])"
   ]
  },
  {
   "cell_type": "code",
   "execution_count": null,
   "id": "2c0ecd24",
   "metadata": {},
   "outputs": [],
   "source": [
    "results_start= Parallel(n_jobs=8)(delayed(nearest_neighbours)(matrix=matrix, df=df)\n",
    "                                      for i in range(300))"
   ]
  },
  {
   "cell_type": "code",
   "execution_count": 16,
   "id": "99958e53",
   "metadata": {},
   "outputs": [],
   "source": [
    "sim = AnnealTVS(df, K=200, repeats=1,stopK=.001, alpha = 0.99, all_distances=True,markov_length = 300,\n",
    "                alternate=True, secondary=\"2opt\", elementary=\"insert\")\n",
    "ans = sim.run_sim()\n"
   ]
  },
  {
   "cell_type": "code",
   "execution_count": 17,
   "id": "9b099398",
   "metadata": {},
   "outputs": [
    {
     "data": {
      "image/png": "[encoded data removed]",
      "text/plain": [
       "<Figure size 432x288 with 2 Axes>"
      ]
     },
     "metadata": {
      "needs_background": "light"
     },
     "output_type": "display_data"
    }
   ],
   "source": [
    "# create figure and axis objects with subplots()\n",
    "fig,ax = plt.subplots()\n",
    "# make a plot\n",
    "ax.plot(ans[0][0], color=\"red\")\n",
    "# set x-axis label\n",
    "ax.set_xlabel(\"iterations\")\n",
    "# set y-axis label\n",
    "ax.set_ylabel(\"distance\",color=\"red\")\n",
    "\n",
    "# twin object for two different y-axis on the sample plot\n",
    "ax2=ax.twinx()\n",
    "# make a plot with different y-axis using second axis object\n",
    "ax2.plot(ans[0][1],color=\"blue\")\n",
    "ax2.set_ylabel(\"Temperature\",color=\"blue\")\n",
    "plt.show()\n",
    "# save the plot as a file\n",
    "fig.savefig('figures\\distance_through_time200.pdf',\n",
    "            format='pdf',\n",
    "            dpi=300,\n",
    "            bbox_inches='tight')"
   ]
  },
  {
   "cell_type": "code",
   "execution_count": 3,
   "id": "75b4b1ce",
   "metadata": {},
   "outputs": [],
   "source": [
    "# find the best solution\n",
    "def experiment5():\n",
    "    sim = AnnealTVS(df, K=5, repeats=1,stopK=.001, alpha = 0.99,markov_length = 300,\n",
    "                alternate=True, secondary=\"2opt\", elementary=\"insert\", return_solution=True)\n",
    "    ans = sim.run_sim()"
   ]
  },
  {
   "cell_type": "code",
   "execution_count": 4,
   "id": "4a6304bf",
   "metadata": {},
   "outputs": [],
   "source": [
    "results_final= Parallel(n_jobs=8)(delayed(experiment5)()\n",
    "                                      for i in range(1))"
   ]
  },
  {
   "cell_type": "code",
   "execution_count": 11,
   "id": "ac0b1161",
   "metadata": {},
   "outputs": [
    {
     "ename": "NameError",
     "evalue": "name 'sim' is not defined",
     "output_type": "error",
     "traceback": [
      "\u001b[1;31m---------------------------------------------------------------------------\u001b[0m",
      "\u001b[1;31mNameError\u001b[0m                                 Traceback (most recent call last)",
      "\u001b[1;32m<ipython-input-11-cfd680e53283>\u001b[0m in \u001b[0;36m<module>\u001b[1;34m\u001b[0m\n\u001b[1;32m----> 1\u001b[1;33m \u001b[0msim\u001b[0m\u001b[1;33m.\u001b[0m\u001b[0msolution\u001b[0m\u001b[1;33m\u001b[0m\u001b[1;33m\u001b[0m\u001b[0m\n\u001b[0m",
      "\u001b[1;31mNameError\u001b[0m: name 'sim' is not defined"
     ]
    }
   ],
   "source": [
    "sim.solution"
   ]
  }
 ],
 "metadata": {
  "kernelspec": {
   "display_name": "Python 3",
   "language": "python",
   "name": "python3"
  },
  "language_info": {
   "codemirror_mode": {
    "name": "ipython",
    "version": 3
   },
   "file_extension": ".py",
   "mimetype": "text/x-python",
   "name": "python",
   "nbconvert_exporter": "python",
   "pygments_lexer": "ipython3",
   "version": "3.9.2"
  }
 },
 "nbformat": 4,
 "nbformat_minor": 5
}
