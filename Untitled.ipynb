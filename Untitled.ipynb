{
 "cells": [
  {
   "cell_type": "code",
   "execution_count": 25,
   "id": "e9222c56",
   "metadata": {},
   "outputs": [],
   "source": [
    "import numpy as np\n",
    "import scipy.linalg as la\n",
    "import matplotlib.pyplot as plt"
   ]
  },
  {
   "cell_type": "code",
   "execution_count": 11,
   "id": "8bb6b238",
   "metadata": {},
   "outputs": [],
   "source": [
    "def f(x):\n",
    "    x1 = 1 + 2/8 - (2/8)*x\n",
    "    x2 = 1/8 + (7/8)*x\n",
    "    x3 = x\n",
    "    ans = np.zeros(3)\n",
    "    ans[0] = x1 - 2*x2 + 2*x3\n",
    "    ans[1] = 3*x1 + 2*x2 - x3\n",
    "    ans[2] = 2*x1 + 4*x2 - 3*x3\n",
    "    return ans"
   ]
  },
  {
   "cell_type": "code",
   "execution_count": 14,
   "id": "fe47b527",
   "metadata": {},
   "outputs": [],
   "source": [
    "a = f()"
   ]
  },
  {
   "cell_type": "code",
   "execution_count": 44,
   "id": "abe893cc",
   "metadata": {},
   "outputs": [
    {
     "name": "stdout",
     "output_type": "stream",
     "text": [
      "3\n",
      "2\n"
     ]
    }
   ],
   "source": [
    "pos = np.arange(-6,-4)\n",
    "for i in pos:\n",
    "    alfa = i\n",
    "    A = np.array(([2,1,1,3], [2,-1,3,5], [-2,alfa,3,1]))\n",
    "    print(np.linalg.matrix_rank(A))\n",
    "    "
   ]
  },
  {
   "cell_type": "code",
   "execution_count": 51,
   "id": "ea8993ca",
   "metadata": {},
   "outputs": [
    {
     "data": {
      "text/plain": [
       "(array([[0., 1., 0.],\n",
       "        [0., 0., 1.],\n",
       "        [1., 0., 0.]]),\n",
       " array([[ 1.        ,  0.        ,  0.        ],\n",
       "        [ 0.33333333,  1.        ,  0.        ],\n",
       "        [ 0.66666667, -1.        ,  1.        ]]),\n",
       " array([[ 6.        ,  2.        , 10.        ],\n",
       "        [ 0.        ,  1.33333333, -4.33333333],\n",
       "        [ 0.        ,  0.        , -7.        ]]))"
      ]
     },
     "execution_count": 51,
     "metadata": {},
     "output_type": "execute_result"
    }
   ],
   "source": [
    "A = np.array(([2,2,-1], [4,0,4], [6,2,10]))\n",
    "la.lu(A)"
   ]
  },
  {
   "cell_type": "code",
   "execution_count": 52,
   "id": "6922be54",
   "metadata": {},
   "outputs": [
    {
     "data": {
      "text/plain": [
       "array([[ 10000., -10100.],\n",
       "       [ -9900.,  10000.]])"
      ]
     },
     "execution_count": 52,
     "metadata": {},
     "output_type": "execute_result"
    }
   ],
   "source": [
    "A = np.array(([1,1.01], [0.99,1]))\n",
    "la.inv(A)"
   ]
  },
  {
   "cell_type": "code",
   "execution_count": 10,
   "id": "fb239bf7",
   "metadata": {},
   "outputs": [],
   "source": [
    "A = np.array(([1,2,2], [4,4,2], [4,6,4]))\n",
    "P = np.array(([0,1,0], [1,0,0], [0,0,1]))"
   ]
  },
  {
   "cell_type": "code",
   "execution_count": 11,
   "id": "3885b5b0",
   "metadata": {},
   "outputs": [
    {
     "data": {
      "text/plain": [
       "array([[4, 4, 2],\n",
       "       [1, 2, 2],\n",
       "       [4, 6, 4]])"
      ]
     },
     "execution_count": 11,
     "metadata": {},
     "output_type": "execute_result"
    }
   ],
   "source": [
    "np.matmul(P,A)"
   ]
  },
  {
   "cell_type": "code",
   "execution_count": 26,
   "id": "ecfb6d35",
   "metadata": {},
   "outputs": [
    {
     "data": {
      "text/plain": [
       "[<matplotlib.lines.Line2D at 0x299b6784940>]"
      ]
     },
     "execution_count": 26,
     "metadata": {},
     "output_type": "execute_result"
    },
    {
     "data": {
      "image/png": "[encoded data removed]",
      "text/plain": [
       "<Figure size 432x288 with 1 Axes>"
      ]
     },
     "metadata": {
      "needs_background": "light"
     },
     "output_type": "display_data"
    }
   ],
   "source": [
    "curve = np.array([11,-2.8,-1])\n",
    "x = np.linspace(-1,4,10)\n",
    "y = [np.polyval(curve, i) for i in x]\n",
    "plt.plot(x,y)"
   ]
  },
  {
   "cell_type": "code",
   "execution_count": 32,
   "id": "45ccb289",
   "metadata": {},
   "outputs": [
    {
     "data": {
      "text/plain": [
       "array([-38.85640646,  -1.        , -51.        ,   1.        ])"
      ]
     },
     "execution_count": 32,
     "metadata": {},
     "output_type": "execute_result"
    }
   ],
   "source": [
    "v = np.transpose(np.array([1+np.sqrt(12), 1,3,-1]))\n",
    "a = np.transpose(np.array([1,1,3,-1]))\n",
    "\n",
    "a - 2*((np.transpose(v)*a)/np.transpose(v)*v)*v"
   ]
  },
  {
   "cell_type": "code",
   "execution_count": 36,
   "id": "c2e6eff7",
   "metadata": {},
   "outputs": [
    {
     "data": {
      "text/plain": [
       "array([[ 0.8660254, -0.5      ],\n",
       "       [ 0.5      ,  0.8660254]])"
      ]
     },
     "execution_count": 36,
     "metadata": {},
     "output_type": "execute_result"
    }
   ],
   "source": [
    "V = np.array(([np.sqrt(3), -1], [1, np.sqrt(3)]))\n",
    "\n",
    "0.5*V"
   ]
  },
  {
   "cell_type": "code",
   "execution_count": 41,
   "id": "f6790185",
   "metadata": {},
   "outputs": [
    {
     "data": {
      "text/plain": [
       "array([2, 1])"
      ]
     },
     "execution_count": 41,
     "metadata": {},
     "output_type": "execute_result"
    }
   ],
   "source": [
    "x = np.array([1,0])\n",
    "A = np.array(([2,1], [1,-2]))\n",
    "\n",
    "np.dot(np.transpose(x),A)"
   ]
  }
 ],
 "metadata": {
  "kernelspec": {
   "display_name": "Python 3",
   "language": "python",
   "name": "python3"
  },
  "language_info": {
   "codemirror_mode": {
    "name": "ipython",
    "version": 3
   },
   "file_extension": ".py",
   "mimetype": "text/x-python",
   "name": "python",
   "nbconvert_exporter": "python",
   "pygments_lexer": "ipython3",
   "version": "3.9.2"
  }
 },
 "nbformat": 4,
 "nbformat_minor": 5
}
